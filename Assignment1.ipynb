{
  "nbformat": 4,
  "nbformat_minor": 0,
  "metadata": {
    "colab": {
      "provenance": []
    },
    "kernelspec": {
      "name": "python3",
      "display_name": "Python 3"
    },
    "language_info": {
      "name": "python"
    }
  },
  "cells": [
    {
      "cell_type": "markdown",
      "source": [
        "# **Python basic theory questions.**"
      ],
      "metadata": {
        "id": "KxFw65mUrM3l"
      }
    },
    {
      "cell_type": "markdown",
      "source": [
        "1. What is Python, and why is it popular?\n",
        "   - Python is a high-level, interpreted programming language. It's known for its versitality, simplicity and good ecosystem for libraries. It is popular because:\n",
        "     1. It is easy to learn and use.\n",
        "     2. Rich ecosystem of libraries- like panda, numpy,matplotlib,etc...\n",
        "     3. Has a large community support.\n",
        "     4. Scalability and open source and free availability for everyone.\n",
        "\n"
      ],
      "metadata": {
        "id": "0TYYfpkusWZO"
      }
    },
    {
      "cell_type": "markdown",
      "source": [
        "2. What is an interpreter in Python?\n",
        "   -  Python interpreter is a program that reads and executes Python code. It is like a translator that reads your code line by line and immediately translates it into instructions that the computer can understand and execute."
      ],
      "metadata": {
        "id": "NGHVZnFDu0KC"
      }
    },
    {
      "cell_type": "markdown",
      "source": [
        "3. What are pre-defined keywords in Python?\n",
        "   - In Python, pre-defined keywords are special words that have a fixed meaning and purpose in the language. they have a specific purpose and you can't use them a variable names or anything. For examples- if-else-elif, for-while, etc..."
      ],
      "metadata": {
        "id": "8LdgqDkAwDDv"
      }
    },
    {
      "cell_type": "markdown",
      "source": [
        "4. Can keywords be used as variable names?\n",
        "   - No pre-defined keywords can't be used as variable names because Python already understands what they mean and uses them to structure the code. they hold specific meaning in itself."
      ],
      "metadata": {
        "id": "etRuvsG4xFuO"
      }
    },
    {
      "cell_type": "markdown",
      "source": [
        "5. What is mutability in Python?\n",
        "   - In python, it refer to if you want to change the state or any content of the list. It means whether or not an object's state can be changed after it's created."
      ],
      "metadata": {
        "id": "tPtzFGtYxfa4"
      }
    },
    {
      "cell_type": "markdown",
      "source": [
        "6. Why are lists mutable, but tuples are immutable?\n",
        "   - Tuple and list data structures are very similar, but lists are mutable and tuples are immutable. The reason for the tuple's immutability is that once the elements are added to the tuple and the tuple has been created; it remains unchanged."
      ],
      "metadata": {
        "id": "inrCQjdtz6In"
      }
    },
    {
      "cell_type": "markdown",
      "source": [
        "7. What is the difference between “==” and “is” operators in Python?\n",
        "   - In Python, both \"==\" and \"is\" are used for comparison but both have different purpose:\n",
        "     * The \"==\" operator checks for equality of value. It checks if the objects on both sides have the same value or not.\n",
        "     * The \"is\" operator checks for identity. It checks if the objects on both sides are actually the same object in memory."
      ],
      "metadata": {
        "id": "OMsXs7I70xMv"
      }
    },
    {
      "cell_type": "markdown",
      "source": [
        "8. What are logical operators in Python?\n",
        "   - Logical operators in Python are used to combine conditional statements. There are three types of logical operators:\n",
        "       * \"and\"- Returns True if both statements are true.\n",
        "       * \"or\"- Returns True if one of the statements is true.\n",
        "       * \"not\"- Reverse the result, returns False if the result is true.\n",
        "       "
      ],
      "metadata": {
        "id": "bVv_SlAy2RJv"
      }
    },
    {
      "cell_type": "markdown",
      "source": [
        "9. What is type casting in Python?\n",
        "   - Type casting, or explicit type conversion, in Python it is the process of  changing an object from one data type to another."
      ],
      "metadata": {
        "id": "N7s2zbLw7mA9"
      }
    },
    {
      "cell_type": "markdown",
      "source": [
        "10. What is the difference between implicit and explicit type casting?\n",
        "    - \"implicit typecasting\"- In this, method, Python converts the datatype into another datatype automatically. Users don't have to involve in this process. For example, when you add an integer and a float, Python will implicitly convert the integer to a float before performing the addition.\n",
        "    - \"explicit typecasting\"- This is when you explicitly tell Python to convert an object from one data type to another."
      ],
      "metadata": {
        "id": "ajZTgZ_V8ZT9"
      }
    },
    {
      "cell_type": "markdown",
      "source": [
        "11. What is the purpose of conditional statements in Python?\n",
        "    - Conditional statements refers to the flow control in pyhton means the mechanism that govern the orders in which statements and instruction are executed. They allow you to execute different blocks of code based on whether certain conditions are true or false and you can take decision on that basis."
      ],
      "metadata": {
        "id": "fJKMaemM-G8o"
      }
    },
    {
      "cell_type": "markdown",
      "source": [
        "12.  How does the elif statement work?\n",
        "     -The elif statement in python means \"if the previous conditions were not true, then try this condition\". It allows to multiple conditions in a sequential manner, providing an alternative path of execution when the preceding if or elif conditions are not met."
      ],
      "metadata": {
        "id": "bFnD63zU_d5T"
      }
    },
    {
      "cell_type": "markdown",
      "source": [
        "13. What is the difference between for and while loops?\n",
        "    - \"for\"- These are used when you know in advance how many times you want to repeat a block of code.This often involves iterating over a sequence or a fixed number of times.\n",
        "    - \"while\"- A while loop is used when the number of iterations is unknown and depends on a specific condition becoming false. The loop continues as long as a given boolean condition remains true."
      ],
      "metadata": {
        "id": "mlLgKAqrAs9f"
      }
    },
    {
      "cell_type": "markdown",
      "source": [
        "14.  Describe a scenario where a while loop is more suitable than a for loop.\n",
        "     - A while loop is best used when you don't know the number of iterations in advance. When we don't know exactly how many times we need to repeat a block of code before the loop starts. Instead, when we want the loop to continue as long as certain conditions remain are met."
      ],
      "metadata": {
        "id": "fipcq3acDALe"
      }
    },
    {
      "cell_type": "markdown",
      "source": [
        "## **Python practical questions.**"
      ],
      "metadata": {
        "id": "a3p2gbZpEGTb"
      }
    },
    {
      "cell_type": "markdown",
      "source": [
        "1. Write a Python program to print \"Hello, World!\""
      ],
      "metadata": {
        "id": "mfa7oP9JEgXe"
      }
    },
    {
      "cell_type": "code",
      "source": [
        "print(\"Hello, World!\")"
      ],
      "metadata": {
        "colab": {
          "base_uri": "https://localhost:8080/"
        },
        "id": "8BHqBgxEEmid",
        "outputId": "20e54474-67e8-4144-ed67-e78284935a7b"
      },
      "execution_count": null,
      "outputs": [
        {
          "output_type": "stream",
          "name": "stdout",
          "text": [
            "Hello, World!\n"
          ]
        }
      ]
    },
    {
      "cell_type": "markdown",
      "source": [
        "2. Write a Python program that displays your name and age."
      ],
      "metadata": {
        "id": "b_obToJmFV2G"
      }
    },
    {
      "cell_type": "code",
      "source": [
        "Name=input(\"My name is-\")\n",
        "Age=int(input(\"My age is-\"))\n"
      ],
      "metadata": {
        "colab": {
          "base_uri": "https://localhost:8080/"
        },
        "id": "lENDFDnKGlnj",
        "outputId": "f09c7269-534e-4434-f99e-678446e099e6"
      },
      "execution_count": null,
      "outputs": [
        {
          "name": "stdout",
          "output_type": "stream",
          "text": [
            "My name is-Diksha\n",
            "My age is-21\n"
          ]
        }
      ]
    },
    {
      "cell_type": "markdown",
      "source": [
        "3. Write code to print all the pre-defined keywords in Python using the keyword library."
      ],
      "metadata": {
        "id": "U2UvvD-ZHaq9"
      }
    },
    {
      "cell_type": "code",
      "source": [
        "help(\"keywords\")"
      ],
      "metadata": {
        "colab": {
          "base_uri": "https://localhost:8080/"
        },
        "id": "zDX2LQBmItIy",
        "outputId": "5387ca78-04b1-47e2-9b34-40ef853b03eb"
      },
      "execution_count": null,
      "outputs": [
        {
          "output_type": "stream",
          "name": "stdout",
          "text": [
            "\n",
            "Here is a list of the Python keywords.  Enter any keyword to get more help.\n",
            "\n",
            "False               class               from                or\n",
            "None                continue            global              pass\n",
            "True                def                 if                  raise\n",
            "and                 del                 import              return\n",
            "as                  elif                in                  try\n",
            "assert              else                is                  while\n",
            "async               except              lambda              with\n",
            "await               finally             nonlocal            yield\n",
            "break               for                 not                 \n",
            "\n"
          ]
        }
      ]
    },
    {
      "cell_type": "markdown",
      "source": [
        "4. Write a program that checks if a given word is a Python keyword."
      ],
      "metadata": {
        "id": "qlhVvz1NIwe4"
      }
    },
    {
      "cell_type": "code",
      "source": [
        "import keyword\n",
        "\n",
        "word_checking = 'while'\n",
        "\n",
        "\n",
        "if keyword.iskeyword(word_checking):\n",
        "    print(f\"'{word_checking}' is a Python keyword.\")\n",
        "else:\n",
        "    print(f\"'{word_checking}' is not a Python keyword.\")"
      ],
      "metadata": {
        "colab": {
          "base_uri": "https://localhost:8080/"
        },
        "id": "ANuaeDBy72ry",
        "outputId": "90ded641-bd1f-42a9-9783-e38759bef176"
      },
      "execution_count": null,
      "outputs": [
        {
          "output_type": "stream",
          "name": "stdout",
          "text": [
            "'while' is a Python keyword.\n"
          ]
        }
      ]
    },
    {
      "cell_type": "markdown",
      "source": [
        "5.  Create a list and tuple in Python, and demonstrate how attempting to change an element works differently\n",
        "for each."
      ],
      "metadata": {
        "id": "qeO4S0HKRqvV"
      }
    },
    {
      "cell_type": "code",
      "source": [
        "my_list=[10,20,30,40,50]\n",
        "my_tuple=(10,20,30,40,50)\n",
        "my_list[2]=55\n",
        "print(my_list)\n",
        "my_tuple[2]=55\n",
        "print(my_tuple)"
      ],
      "metadata": {
        "id": "qShkuxuERyGE",
        "colab": {
          "base_uri": "https://localhost:8080/",
          "height": 211
        },
        "outputId": "5dbb3741-3481-4e9c-84ab-3f1f63e6c267"
      },
      "execution_count": null,
      "outputs": [
        {
          "output_type": "stream",
          "name": "stdout",
          "text": [
            "[10, 20, 55, 40, 50]\n"
          ]
        },
        {
          "output_type": "error",
          "ename": "TypeError",
          "evalue": "'tuple' object does not support item assignment",
          "traceback": [
            "\u001b[0;31m---------------------------------------------------------------------------\u001b[0m",
            "\u001b[0;31mTypeError\u001b[0m                                 Traceback (most recent call last)",
            "\u001b[0;32m/tmp/ipython-input-1962579475.py\u001b[0m in \u001b[0;36m<cell line: 0>\u001b[0;34m()\u001b[0m\n\u001b[1;32m      3\u001b[0m \u001b[0mmy_list\u001b[0m\u001b[0;34m[\u001b[0m\u001b[0;36m2\u001b[0m\u001b[0;34m]\u001b[0m\u001b[0;34m=\u001b[0m\u001b[0;36m55\u001b[0m\u001b[0;34m\u001b[0m\u001b[0;34m\u001b[0m\u001b[0m\n\u001b[1;32m      4\u001b[0m \u001b[0mprint\u001b[0m\u001b[0;34m(\u001b[0m\u001b[0mmy_list\u001b[0m\u001b[0;34m)\u001b[0m\u001b[0;34m\u001b[0m\u001b[0;34m\u001b[0m\u001b[0m\n\u001b[0;32m----> 5\u001b[0;31m \u001b[0mmy_tuple\u001b[0m\u001b[0;34m[\u001b[0m\u001b[0;36m2\u001b[0m\u001b[0;34m]\u001b[0m\u001b[0;34m=\u001b[0m\u001b[0;36m55\u001b[0m\u001b[0;34m\u001b[0m\u001b[0;34m\u001b[0m\u001b[0m\n\u001b[0m\u001b[1;32m      6\u001b[0m \u001b[0mprint\u001b[0m\u001b[0;34m(\u001b[0m\u001b[0mmy_tuple\u001b[0m\u001b[0;34m)\u001b[0m\u001b[0;34m\u001b[0m\u001b[0;34m\u001b[0m\u001b[0m\n",
            "\u001b[0;31mTypeError\u001b[0m: 'tuple' object does not support item assignment"
          ]
        }
      ]
    },
    {
      "cell_type": "markdown",
      "source": [
        "6. Write a function to demonstrate the behavior of mutable and immutable arguments."
      ],
      "metadata": {
        "id": "9xNAZKflR0Cc"
      }
    },
    {
      "cell_type": "code",
      "source": [
        "# for mutable objects:\n",
        "def modify_list(my_list):\n",
        "    my_list.append(100)\n",
        "    print(f\"Inside function: Modified list: {my_list}, ID: {id(my_list)}\")\n",
        "\n",
        "# for immutable objects:\n",
        "def modify_immutable_argument(my_integer):\n",
        "    my_integer = my_integer + 10 # This creates a new integer object inside the function\n",
        "    print(f\"Inside function: Modified integer: {my_integer}, ID: {id(my_integer)}\")\n",
        "\n",
        "my_list = [10, 20, 30]\n",
        "print(f\"Outside function: Original list: {my_list}, ID: {id(my_list)}\")\n",
        "modify_list(my_list)\n",
        "print(f\"Outside function: After function call: {my_list}, ID: {id(my_list)}\")\n",
        "\n",
        "print(\"-\" * 20) # Separator\n",
        "\n",
        "my_integer = 10\n",
        "print(f\"Outside function: Original integer: {my_integer}, ID: {id(my_integer)}\")\n",
        "modify_immutable_argument(my_integer)\n",
        "print(f\"Outside function: After function call: {my_integer}, ID: {id(my_integer)}\")"
      ],
      "metadata": {
        "id": "nOaN8Xo0R9bE",
        "colab": {
          "base_uri": "https://localhost:8080/"
        },
        "outputId": "c6d8d32e-6376-4cea-a3ba-46d759e04407"
      },
      "execution_count": null,
      "outputs": [
        {
          "output_type": "stream",
          "name": "stdout",
          "text": [
            "Outside function: Original list: [10, 20, 30], ID: 133334430346816\n",
            "Inside function: Modified list: [10, 20, 30, 100], ID: 133334430346816\n",
            "Outside function: After function call: [10, 20, 30, 100], ID: 133334430346816\n",
            "--------------------\n",
            "Outside function: Original integer: 10, ID: 11642376\n",
            "Inside function: Modified integer: 20, ID: 11642696\n",
            "Outside function: After function call: 10, ID: 11642376\n"
          ]
        }
      ]
    },
    {
      "cell_type": "markdown",
      "source": [
        "7. Write a program that performs basic arithmetic operations on two user-input numbers."
      ],
      "metadata": {
        "id": "YiUxwm0tR-S0"
      }
    },
    {
      "cell_type": "code",
      "source": [
        "num1 = float(input(\"Enter the first number: \"))\n",
        "num2 = float(input(\"Enter the second number: \"))\n",
        "\n",
        "sum_of_numbers = num1 + num2\n",
        "difference_of_numbers = num1 - num2\n",
        "product_of_numbers = num1 * num2\n",
        "division_of_numbers = num1 / num2\n",
        "\n",
        "print(\"The sum is->\", sum_of_numbers,)\n",
        "print(\"The difference is->\", difference_of_numbers,)\n",
        "print(\"The product is->\", product_of_numbers,)\n",
        "print(\"The division is->\", division_of_numbers,)\n"
      ],
      "metadata": {
        "id": "3tJ_lQJ5SFY0",
        "colab": {
          "base_uri": "https://localhost:8080/"
        },
        "outputId": "66278f5a-24e3-4247-8f0d-fccc60997e90"
      },
      "execution_count": null,
      "outputs": [
        {
          "output_type": "stream",
          "name": "stdout",
          "text": [
            "Enter the first number: 50\n",
            "Enter the second number: 10\n",
            "The sum is-> 60.0\n",
            "The difference is-> 40.0\n",
            "The product is-> 500.0\n",
            "The division is-> 5.0\n"
          ]
        }
      ]
    },
    {
      "cell_type": "markdown",
      "source": [
        "8. Write a program to demonstrate the use of logical operators."
      ],
      "metadata": {
        "id": "0JAt9i44SF2l"
      }
    },
    {
      "cell_type": "code",
      "source": [
        "# Logical AND operator>> Returns True if both operands are True\n",
        "print(\"{Logical AND OPERATOR}\")\n",
        "print(True and True)\n",
        "print(True and False)\n",
        "print(False and True)\n",
        "print(False and False)\n",
        "\n",
        "# Logical OR operator>> Returns True if at least one of the operands is True\n",
        "print(\"{Logical OR OPERATOR}\")\n",
        "print(True or True)\n",
        "print(True or False)\n",
        "print(False or True)\n",
        "print(False or False)\n",
        "\n",
        "# Logical NOT operator>> Reverses the logical state of its operand\n",
        "print(\"{Logical NOT OPERATOR}\")\n",
        "print(not True)\n",
        "print(not False)"
      ],
      "metadata": {
        "id": "PGs4aSC3SLaM",
        "colab": {
          "base_uri": "https://localhost:8080/"
        },
        "outputId": "44d6756d-53c2-4a5b-f62f-98d3d6543a78"
      },
      "execution_count": null,
      "outputs": [
        {
          "output_type": "stream",
          "name": "stdout",
          "text": [
            "{Logical AND OPERATOR}\n",
            "True\n",
            "False\n",
            "False\n",
            "False\n",
            "{Logical OR OPERATOR}\n",
            "True\n",
            "True\n",
            "True\n",
            "False\n",
            "{Logical NOT OPERATOR}\n",
            "False\n",
            "True\n"
          ]
        }
      ]
    },
    {
      "cell_type": "markdown",
      "source": [
        "9. Write a Python program to convert user input from string to integer, float, and boolean types."
      ],
      "metadata": {
        "id": "WMg43FckSNAE"
      }
    },
    {
      "cell_type": "code",
      "source": [
        "input_str = input(\"Enter a value: \")\n",
        "\n",
        "try:\n",
        "    int_value = int(input_str)\n",
        "    print(f\"Converted to integer: {int_value} (Type: {type(int_value)})\")\n",
        "except ValueError:\n",
        "    print(\"Cannot convert to integer. Please enter a valid whole number.\")\n",
        "\n",
        "\n",
        "try:\n",
        "    float_value = float(input_str)\n",
        "    print(f\"Converted to float: {float_value} (Type: {type(float_value)})\")\n",
        "except ValueError:\n",
        "    print(\"Cannot convert to float. Please enter a valid number.\")\n",
        "\n",
        "bool_value = input_str.lower() in ['true', '1']\n",
        "print(f\"Converted to boolean: {bool_value} (Type: {type(bool_value)})\")"
      ],
      "metadata": {
        "id": "jyU9VHK_SSlL",
        "colab": {
          "base_uri": "https://localhost:8080/"
        },
        "outputId": "f65e5d2d-3d14-4413-b572-566c9598e254"
      },
      "execution_count": null,
      "outputs": [
        {
          "output_type": "stream",
          "name": "stdout",
          "text": [
            "Enter a value: 56\n",
            "Converted to integer: 56 (Type: <class 'int'>)\n",
            "Converted to float: 56.0 (Type: <class 'float'>)\n",
            "Converted to boolean: False (Type: <class 'bool'>)\n"
          ]
        }
      ]
    },
    {
      "cell_type": "markdown",
      "source": [
        "10. Write code to demonstrate type casting with list elements."
      ],
      "metadata": {
        "id": "Q67ZTVjBSTwk"
      }
    },
    {
      "cell_type": "code",
      "source": [
        "my_list = [1, \"2\", 3.5]\n",
        "print(\"Original list:\", my_list)\n",
        "print(\"Types of items in the list:\", [type(item) for item in my_list])\n",
        "\n",
        "item_2 = int(my_list[1])\n",
        "print(\"Changing the second item to an integer:\", item_2, \"which is now \", type(item_2))\n",
        "\n",
        "item_3 = str(my_list[2])\n",
        "print(\"Changing the third item to a string:\", item_3, \"which is now \", type(item_3))\n",
        "\n",
        "my_list[1] = int(my_list[1])\n",
        "my_list[2] = str(my_list[2])\n",
        "\n",
        "print(\"Our list after updating with casted items:\", my_list)\n",
        "print(\"Types of items in the updated list:\", [type(item) for item in my_list])"
      ],
      "metadata": {
        "id": "ZFDY43ywSa1c",
        "colab": {
          "base_uri": "https://localhost:8080/"
        },
        "outputId": "4b678f79-e92d-4b13-f4b9-82a6359e1a78"
      },
      "execution_count": null,
      "outputs": [
        {
          "output_type": "stream",
          "name": "stdout",
          "text": [
            "Original list: [1, '2', 3.5]\n",
            "Types of items in the list: [<class 'int'>, <class 'str'>, <class 'float'>]\n",
            "Changing the second item to an integer: 2 which is now  <class 'int'>\n",
            "Changing the third item to a string: 3.5 which is now  <class 'str'>\n",
            "Our list after updating with casted items: [1, 2, '3.5']\n",
            "Types of items in the updated list: [<class 'int'>, <class 'int'>, <class 'str'>]\n"
          ]
        }
      ]
    },
    {
      "cell_type": "markdown",
      "source": [
        "11. Write a program that checks if a number is positive, negative, or zero."
      ],
      "metadata": {
        "id": "jbOO5c-7SbmV"
      }
    },
    {
      "cell_type": "code",
      "source": [
        "number = float(input(\"Enter a number: \"))\n",
        "\n",
        "if number > 0:\n",
        "    print(\"The number is positive.\")\n",
        "elif number < 0:\n",
        "    print(\"The number is negative.\")\n",
        "else:\n",
        "    print(\"The number is zero.\")"
      ],
      "metadata": {
        "id": "lir8fcPFSnJ0",
        "colab": {
          "base_uri": "https://localhost:8080/"
        },
        "outputId": "aaae7346-19a7-4a61-c193-9a72b62de84e"
      },
      "execution_count": null,
      "outputs": [
        {
          "output_type": "stream",
          "name": "stdout",
          "text": [
            "Enter a number: -89\n",
            "The number is negative.\n"
          ]
        }
      ]
    },
    {
      "cell_type": "markdown",
      "source": [
        "12. Write a for loop to print numbers from 1 to 10."
      ],
      "metadata": {
        "id": "_1Z-P18_SpcE"
      }
    },
    {
      "cell_type": "code",
      "source": [
        "for i in range(11):\n",
        "  print(i)"
      ],
      "metadata": {
        "id": "QFJP02h6SuZc",
        "colab": {
          "base_uri": "https://localhost:8080/"
        },
        "outputId": "1b43a345-1f6e-4452-aeff-f10da3415b80"
      },
      "execution_count": null,
      "outputs": [
        {
          "output_type": "stream",
          "name": "stdout",
          "text": [
            "0\n",
            "1\n",
            "2\n",
            "3\n",
            "4\n",
            "5\n",
            "6\n",
            "7\n",
            "8\n",
            "9\n",
            "10\n"
          ]
        }
      ]
    },
    {
      "cell_type": "markdown",
      "source": [
        "13.  Write a Python program to find the sum of all even numbers between 1 and 50."
      ],
      "metadata": {
        "id": "xIPklRH5Svw8"
      }
    },
    {
      "cell_type": "code",
      "source": [
        "sum_of_evens = 0\n",
        "for number in range(2, 51, 2):\n",
        "    sum_of_evens += number\n",
        "print(\"The sum of even numbers from 1 to 50 is:\", sum_of_evens)"
      ],
      "metadata": {
        "id": "y-Sxc2tmS0VU",
        "colab": {
          "base_uri": "https://localhost:8080/"
        },
        "outputId": "f2aa0d65-7341-4c00-daac-55abae013698"
      },
      "execution_count": null,
      "outputs": [
        {
          "output_type": "stream",
          "name": "stdout",
          "text": [
            "The sum of even numbers from 1 to 50 is: 650\n"
          ]
        }
      ]
    },
    {
      "cell_type": "markdown",
      "source": [
        "14. Write a program to reverse a string using a while loop."
      ],
      "metadata": {
        "id": "MwcLsbzXS1EU"
      }
    },
    {
      "cell_type": "code",
      "source": [
        "input_string = input(\"Enter a string to reverse: \")\n",
        "reversed_string = \"\"\n",
        "index = len(input_string) - 1\n",
        "\n",
        "while index >= 0:\n",
        "    reversed_string += input_string[index]\n",
        "    index -= 1\n",
        "\n",
        "print(\"Reversed string:\", reversed_string)\n"
      ],
      "metadata": {
        "id": "tURK6LgvS45E",
        "colab": {
          "base_uri": "https://localhost:8080/"
        },
        "outputId": "dde07a79-3ddd-400d-ebe5-9eee7662e18a"
      },
      "execution_count": null,
      "outputs": [
        {
          "output_type": "stream",
          "name": "stdout",
          "text": [
            "Enter a string to reverse: diksha maurya\n",
            "Reversed string: ayruam ahskid\n"
          ]
        }
      ]
    },
    {
      "cell_type": "markdown",
      "source": [
        "15. Write a Python program to calculate the factorial of a number provided by the user using a while loop."
      ],
      "metadata": {
        "id": "7p4ZdFcqS5QU"
      }
    },
    {
      "cell_type": "code",
      "source": [
        "try:\n",
        "    num = int(input(\"Enter a non-negative integer: \"))\n",
        "\n",
        "\n",
        "    if num < 0:\n",
        "        print(\"Factorial is not defined for negative numbers.\")\n",
        "    elif num == 0:\n",
        "        print(\"The factorial of 0 is 1.\")\n",
        "    else:\n",
        "        factorial = 1\n",
        "\n",
        "        while num > 0:\n",
        "            factorial *= num\n",
        "            num -= 1\n",
        "        print(\"The factorial is:\", factorial)\n",
        "\n",
        "except ValueError:\n",
        "    print(\"Invalid input. Please enter a valid integer.\")"
      ],
      "metadata": {
        "colab": {
          "base_uri": "https://localhost:8080/"
        },
        "id": "QRJ72Q43Q17Q",
        "outputId": "7c12635c-8c95-4061-b6ad-070ae556338e"
      },
      "execution_count": null,
      "outputs": [
        {
          "output_type": "stream",
          "name": "stdout",
          "text": [
            "Enter a non-negative integer: 12\n",
            "The factorial is: 479001600\n"
          ]
        }
      ]
    }
  ]
}