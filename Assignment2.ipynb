{
  "nbformat": 4,
  "nbformat_minor": 0,
  "metadata": {
    "colab": {
      "provenance": []
    },
    "kernelspec": {
      "name": "python3",
      "display_name": "Python 3"
    },
    "language_info": {
      "name": "python"
    }
  },
  "cells": [
    {
      "cell_type": "markdown",
      "source": [
        "# Python>>Data Types and Structures Questions"
      ],
      "metadata": {
        "id": "W_jarCmOhjZV"
      }
    },
    {
      "cell_type": "markdown",
      "source": [
        "1. What are data structures, and why are they important?\n",
        "   - Data structures are specialized formats for organizing, storing, and accessing collections of data so that it can be used efficiently. Think of them as containers that hold your data and determine how you can interact with it."
      ],
      "metadata": {
        "id": "cMZBHMp_hypx"
      }
    },
    {
      "cell_type": "markdown",
      "source": [
        "2. Explain the difference between mutable and immutable data types with examples.\n",
        "   - \"Mutable data type\"- Mutable data types can be changed after they are created. When we change a mutable object, we are changing the original object in memory. For Example>>\n",
        "        * Lists: Elements can be added, removed, or changed.\n",
        "        * Dictionaries: value can be added, removed, or updated.\n",
        "   - \"Immutable data type\"- Immutable data types means their value cannot be changed after they are created. For Example>>\n",
        "        * strings: Characters within a string cannot be changed.\n",
        "        * Tuples: Elements within a tuple cannot be changed, added, or removed."
      ],
      "metadata": {
        "id": "H2_nq8dThwvH"
      }
    },
    {
      "cell_type": "markdown",
      "source": [
        "3. What are the main differences between lists and tuples in Python?\n",
        "   - Lists are mutable, means their elements can be changed such as added, removed, or changed after creation and lists are created using square brackets []. Tuples are immutable, means their elements cannot be changed once the tuple is created and tuples are created using parentheses ()."
      ],
      "metadata": {
        "id": "jOkS9H7Ll0bY"
      }
    },
    {
      "cell_type": "markdown",
      "source": [
        "4.  Describe how dictionaries store data.\n",
        "    - In dictionaries, elements are not stored in a specific order. It stores data as a collection of unique key-value pairs. Each key acts as a unique identifier for retrieving an associated value.  Keys and values can be of various data types (strings, numbers, lists, and even other dictionaries)."
      ],
      "metadata": {
        "id": "ArASMAk3m8NG"
      }
    },
    {
      "cell_type": "markdown",
      "source": [
        "5. Why might you use a set instead of a list in Python?\n",
        "   - Sets automatically store only unique elements. If we add a duplicate item to a set, it simply won't be added again.But, Lists can contain multiple copies of the same item. Set operations like union, intersection, and difference are efficient."
      ],
      "metadata": {
        "id": "7CD0e87Xogaa"
      }
    },
    {
      "cell_type": "markdown",
      "source": [
        "6. What is a string in Python, and how is it different from a list?\n",
        "   - A string is a sequence of characters in an unchangeable order and its an immutable sequence of characters, used to represent text. Strings are immutable whereas, lists are mutable. string stores sequences of characters but list can store an ordered collection of various data types, including numbers, strings."
      ],
      "metadata": {
        "id": "U4sgQu2ItAQx"
      }
    },
    {
      "cell_type": "markdown",
      "source": [
        "7.  How do tuples ensure data integrity in Python?\n",
        "    - Tuples in Python ensure data integrity through its character of being immutable. It acts as a protective mechanism because it stops accidental modification and the value cannot be removed, added or modified."
      ],
      "metadata": {
        "id": "LRP66LGVbkt_"
      }
    },
    {
      "cell_type": "markdown",
      "source": [
        "8. What is a hash table, and how does it relate to dictionaries in Python?\n",
        "   - A Hash table is defined as a data structure used to insert, look up, and remove key-value pairs quickly. Dictionaries are implemented using hash tables. When we add an item to a dictionary, Python internally hashes the key to determine where to store the value."
      ],
      "metadata": {
        "id": "D1bK0T2DdVpF"
      }
    },
    {
      "cell_type": "markdown",
      "source": [
        "9.  Can lists contain different data types in Python?\n",
        "    - Yes, lists in Python can contain different data types. Python list can contain integers, strings, floats, booleans, and even complex objects like dictionaries."
      ],
      "metadata": {
        "id": "Pqa7yw9ceEG2"
      }
    },
    {
      "cell_type": "markdown",
      "source": [
        "10. Explain why strings are immutable in Python.\n",
        "    - Strings are immutable in Python, means their content cannot be changed after creation. If strings were mutable, it would be easy to unintentionally modify their values. Python can optimize memory usage by reusing strings that have the same value. This helps in reducing memory consumption."
      ],
      "metadata": {
        "id": "P_JavpCPeaWF"
      }
    },
    {
      "cell_type": "markdown",
      "source": [
        "11. What advantages do dictionaries offer over lists for certain tasks?\n",
        "    - Dictionaries in Python offer several advantages over lists for certain tasks, primarily due to their key-value structure. There are more advantage such as-\n",
        "       * A dictionary stores data in key-value pairs, making it ideal for tasks where you need to associate the value with a unique identifier but lists stores elements in a sequential order. While you can use the index to associate a value.\n",
        "       * In dictionaries we can easily update the value associated with a specific key While In lists elements can be updated by their index, there's no direct way to update a list item.\n",
        "       * A dictionary automatically ensures that each key is unique but Lists can contain duplicate values, which might be undesirable in some situations."
      ],
      "metadata": {
        "id": "a3AullN2fjLA"
      }
    },
    {
      "cell_type": "markdown",
      "source": [
        "12.  Describe a scenario where using a tuple would be preferable over a list.\n",
        "     - Imagine there's a company and you want to create a code regarding their extra working hours and according to that bonus will be provided to each of them and you want to show that which employee got how much bonus so in this case we will definetly have to write the employee code and their name or working hours because these will be uniques of everyone so here we can use tuple because employee code is immutable and should not be changed. Tuples are generally more memory-efficient than lists because they do not need to allocate extra space for potential future modification. so we can use them for a large data set which will be beneficial in this case."
      ],
      "metadata": {
        "id": "dKWSORDjhrYT"
      }
    },
    {
      "cell_type": "markdown",
      "source": [
        "13. How do sets handle duplicate values in Python?\n",
        "    - Python set objects are designed to store only unique elements. They do not allow duplicate values. When we attempt to add a duplicate value to a set, the set simply ignores the addition. it does not raise an error, nor does it store the duplicate. The element already present in the set remains, and the new, identical element is not added."
      ],
      "metadata": {
        "id": "63lVvod3kKzF"
      }
    },
    {
      "cell_type": "markdown",
      "source": [
        "14.  How does the “in” keyword work differently for lists and dictionaries?\n",
        "     - The in keyword in Python functions differently when used with lists and dictionaries like-\n",
        "         * When \"in\" is used with a list, it checks for the presence of a specific element within the list. but, When \"in\" is used with a dictionary, it checks for the presence of a specific key within the dictionary. It does not directly check for values.\n",
        "         * Python iterates through each item in the list sequentially until a match is found or the end of the list is reached. In dictionaries, Python hashes the key and uses the resulting hash value to quickly locate the key."
      ],
      "metadata": {
        "id": "8F8Wejp0knTW"
      }
    },
    {
      "cell_type": "markdown",
      "source": [
        "15. Can you modify the elements of a tuple? Explain why or why not.\n",
        "    - No, the elements of a tuple cannot be modified directly after its creation. This is because tuples are immutable data structures in Python. because they provide a secure way to store data that shouldn't be modified. Tuples are useful for representing fixed datasets or configurations."
      ],
      "metadata": {
        "id": "4uasI-ILlq3U"
      }
    },
    {
      "cell_type": "markdown",
      "source": [
        "16. What is a nested dictionary, and give an example of its use case?\n",
        "    - A nested dictionary in Python is a dictionary that contains other dictionaries as values. This structure allows for the representation of complex data data structure. For example- let's say that you have a company and in that company you have different department and in each department there are various employee so you will simply use a nested dictionary."
      ],
      "metadata": {
        "id": "wIJduUqhmvoy"
      }
    },
    {
      "cell_type": "markdown",
      "source": [
        "17.  Describe the time complexity of accessing elements in a dictionary.\n",
        "     - Dictionaries provide constant-time complexity for key-based lookups on average. This means the time complexity for accessing an element by key is O(1). When you look up an element in a dictionary, the key is hashed. Since the hashed key gives a direct index, Python can immediately jump to that location in the hash table, making the lookup process very fast. but in worst case when collision happens it can degrade to O(n) if the hash table becomes very full or there are too many collisions."
      ],
      "metadata": {
        "id": "8q7m399lnveI"
      }
    },
    {
      "cell_type": "markdown",
      "source": [
        "18. In what situations are lists preferred over dictionaries?\n",
        "    - Here are some situation when list is  more preferable than dictionaries:\n",
        "        * If you just need to store a collection of items and don't need to associate them with keys than list is preferable.\n",
        "        * Lists work well when your data is just a sequence, such as numbers or strings, and you don't need extra information.\n",
        "        * Lists can store duplicate values, which is useful when you need to track multiple occurrences of the same item.\n",
        "        * when you need to perform operations like sorting, slicing, or using indices."
      ],
      "metadata": {
        "id": "16N0ZBHDpNZN"
      }
    },
    {
      "cell_type": "markdown",
      "source": [
        "19. Why are dictionaries considered unordered, and how does that affect data retrieval?\n",
        "    - Elements are not stored in a specific order. Each key acts as a unique identifier for retrieving an associated value. This means that the order preservation feature does not significantly affect the performance or behavior of data retrieval in terms of accessing a specific value by its key."
      ],
      "metadata": {
        "id": "S4WgW47Hjnuc"
      }
    },
    {
      "cell_type": "markdown",
      "source": [
        "20. Explain the difference between a list and a dictionary in terms of data retrieval.\n",
        "    - in list:\n",
        "        * Index-based retrieval: Lists are ordered collections where each element is accessed via an integer index (starting from 0).\n",
        "        * Lists are suitable when the order matters and elements are accessed by their position in the sequence.\n",
        "    - in dictionaries:\n",
        "        * Key-based retrieval: Dictionaries are collections of key-value pairs. You retrieve a value using a unique key.\n",
        "        * Dictionaries are ideal when you need to retrieve values based on a unique identifier, rather than position."
      ],
      "metadata": {
        "id": "lmtma-0lkk9S"
      }
    },
    {
      "cell_type": "markdown",
      "source": [
        "# Data Structure>>Practical Questions"
      ],
      "metadata": {
        "id": "6wbUoJLHlWvr"
      }
    },
    {
      "cell_type": "markdown",
      "source": [
        "1. Write a code to create a string with your name and print it."
      ],
      "metadata": {
        "id": "GwZ2pr0illfv"
      }
    },
    {
      "cell_type": "code",
      "source": [
        "Name=\"Diksha maurya\"\n",
        "print(Name)"
      ],
      "metadata": {
        "colab": {
          "base_uri": "https://localhost:8080/"
        },
        "id": "l10mDy5GmLly",
        "outputId": "a9c1523f-e2fa-4fd8-c5aa-6bda1e241ac5"
      },
      "execution_count": 1,
      "outputs": [
        {
          "output_type": "stream",
          "name": "stdout",
          "text": [
            "Diksha maurya\n"
          ]
        }
      ]
    },
    {
      "cell_type": "markdown",
      "source": [
        "2. Write a code to find the length of the string \"Hello World\"."
      ],
      "metadata": {
        "id": "gJp11GJ9mMfq"
      }
    },
    {
      "cell_type": "code",
      "source": [
        "given_string=\"Hello world\"\n",
        "print(len(given_string))"
      ],
      "metadata": {
        "colab": {
          "base_uri": "https://localhost:8080/"
        },
        "id": "RnfRoPdkmQjv",
        "outputId": "9e8ee412-2493-4566-e72f-af37bc616bea"
      },
      "execution_count": 2,
      "outputs": [
        {
          "output_type": "stream",
          "name": "stdout",
          "text": [
            "11\n"
          ]
        }
      ]
    },
    {
      "cell_type": "markdown",
      "source": [
        "3. Write a code to slice the first 3 characters from the string \"Python Programming\"."
      ],
      "metadata": {
        "id": "80nwDEjqmRIb"
      }
    },
    {
      "cell_type": "code",
      "source": [
        "Ques_string=\"Python Programming\"\n",
        "Ques_string[:3]"
      ],
      "metadata": {
        "colab": {
          "base_uri": "https://localhost:8080/",
          "height": 36
        },
        "id": "fyrLFjb3mXsS",
        "outputId": "00229138-432f-4516-dd6e-1bbe253746ef"
      },
      "execution_count": 4,
      "outputs": [
        {
          "output_type": "execute_result",
          "data": {
            "text/plain": [
              "'Pyt'"
            ],
            "application/vnd.google.colaboratory.intrinsic+json": {
              "type": "string"
            }
          },
          "metadata": {},
          "execution_count": 4
        }
      ]
    },
    {
      "cell_type": "markdown",
      "source": [
        "4. Write a code to convert the string \"hello\" to uppercase."
      ],
      "metadata": {
        "id": "7srx3c0qmYDG"
      }
    },
    {
      "cell_type": "code",
      "source": [
        "given_string=\"Hello\"\n",
        "given_string.upper()"
      ],
      "metadata": {
        "colab": {
          "base_uri": "https://localhost:8080/",
          "height": 36
        },
        "id": "okMUiabqnIhb",
        "outputId": "468d4b3c-c6af-42c7-d771-fa7f47dc8789"
      },
      "execution_count": 6,
      "outputs": [
        {
          "output_type": "execute_result",
          "data": {
            "text/plain": [
              "'HELLO'"
            ],
            "application/vnd.google.colaboratory.intrinsic+json": {
              "type": "string"
            }
          },
          "metadata": {},
          "execution_count": 6
        }
      ]
    },
    {
      "cell_type": "markdown",
      "source": [
        "5. Write a code to replace the word \"apple\" with \"orange\" in the string \"I like apple\"."
      ],
      "metadata": {
        "id": "wfs7Bxd5nI5C"
      }
    },
    {
      "cell_type": "code",
      "source": [
        "given_senteence=\"I like apple\"\n",
        "given_senteence.replace(\"apple\",\"orange\")"
      ],
      "metadata": {
        "colab": {
          "base_uri": "https://localhost:8080/",
          "height": 36
        },
        "id": "uHYffvH3nNVS",
        "outputId": "9c82fb88-2d59-4245-a203-44e14ffef438"
      },
      "execution_count": 7,
      "outputs": [
        {
          "output_type": "execute_result",
          "data": {
            "text/plain": [
              "'I like orange'"
            ],
            "application/vnd.google.colaboratory.intrinsic+json": {
              "type": "string"
            }
          },
          "metadata": {},
          "execution_count": 7
        }
      ]
    },
    {
      "cell_type": "markdown",
      "source": [
        "6. Write a code to create a list with numbers 1 to 5 and print it."
      ],
      "metadata": {
        "id": "GtlfmXrznNqb"
      }
    },
    {
      "cell_type": "code",
      "source": [
        "create=[1,2,3,4,5]\n",
        "print(create)"
      ],
      "metadata": {
        "colab": {
          "base_uri": "https://localhost:8080/"
        },
        "id": "l0neC7tUnRXS",
        "outputId": "dd1fb338-a18c-4995-a15c-3732e8f1d51c"
      },
      "execution_count": 8,
      "outputs": [
        {
          "output_type": "stream",
          "name": "stdout",
          "text": [
            "[1, 2, 3, 4, 5]\n"
          ]
        }
      ]
    },
    {
      "cell_type": "markdown",
      "source": [
        "7. Write a code to append the number 10 to the list [1, 2, 3, 4]."
      ],
      "metadata": {
        "id": "mJgAccQ-nRtD"
      }
    },
    {
      "cell_type": "code",
      "source": [
        "given_list=[1,2,3,4]\n",
        "given_list.append(10)\n",
        "print(given_list)"
      ],
      "metadata": {
        "colab": {
          "base_uri": "https://localhost:8080/"
        },
        "id": "4voYdVZvnWWb",
        "outputId": "1d802ede-cc5b-4df4-a9ce-73c39cad9df1"
      },
      "execution_count": 9,
      "outputs": [
        {
          "output_type": "stream",
          "name": "stdout",
          "text": [
            "[1, 2, 3, 4, 10]\n"
          ]
        }
      ]
    },
    {
      "cell_type": "markdown",
      "source": [
        "8. Write a code to remove the number 3 from the list [1, 2, 3, 4, 5]."
      ],
      "metadata": {
        "id": "zDnV3lyHnWri"
      }
    },
    {
      "cell_type": "code",
      "source": [
        "create_list=[1,2,3,4,5]\n",
        "create_list.remove(3)\n",
        "print(create_list)"
      ],
      "metadata": {
        "colab": {
          "base_uri": "https://localhost:8080/"
        },
        "id": "fOjB60zWnbMD",
        "outputId": "456c73c0-671c-4f25-a698-ab3ad7d6cfbd"
      },
      "execution_count": 11,
      "outputs": [
        {
          "output_type": "stream",
          "name": "stdout",
          "text": [
            "[1, 2, 4, 5]\n"
          ]
        }
      ]
    },
    {
      "cell_type": "markdown",
      "source": [
        "9. Write a code to access the second element in the list ['a', 'b', 'c', 'd'].\n"
      ],
      "metadata": {
        "id": "CXIQKM5XnbdT"
      }
    },
    {
      "cell_type": "code",
      "source": [
        "given_list=['a','b','c','d']\n",
        "given_list[1]"
      ],
      "metadata": {
        "colab": {
          "base_uri": "https://localhost:8080/",
          "height": 36
        },
        "id": "kEX4G_Genh7b",
        "outputId": "eb52c0d9-f12a-41bd-cc34-74dc697cc67b"
      },
      "execution_count": 12,
      "outputs": [
        {
          "output_type": "execute_result",
          "data": {
            "text/plain": [
              "'b'"
            ],
            "application/vnd.google.colaboratory.intrinsic+json": {
              "type": "string"
            }
          },
          "metadata": {},
          "execution_count": 12
        }
      ]
    },
    {
      "cell_type": "markdown",
      "source": [
        "10. Write a code to reverse the list [10, 20, 30, 40, 50]."
      ],
      "metadata": {
        "id": "SeXIuOKtniIz"
      }
    },
    {
      "cell_type": "code",
      "source": [
        "reverse_list=[10,20,30,40,50]\n",
        "reverse_list[::-1]"
      ],
      "metadata": {
        "colab": {
          "base_uri": "https://localhost:8080/"
        },
        "id": "UDZtAHAfnlwS",
        "outputId": "97664cdf-5a06-48ac-9f1c-014bc819e6da"
      },
      "execution_count": 13,
      "outputs": [
        {
          "output_type": "execute_result",
          "data": {
            "text/plain": [
              "[50, 40, 30, 20, 10]"
            ]
          },
          "metadata": {},
          "execution_count": 13
        }
      ]
    },
    {
      "cell_type": "markdown",
      "source": [
        "11. Write a code to create a tuple with the elements 100, 200, 300 and print it."
      ],
      "metadata": {
        "id": "N6dQLWkFnl-z"
      }
    },
    {
      "cell_type": "code",
      "source": [
        "create_tuple=(100,200,300)\n",
        "print(create_tuple)"
      ],
      "metadata": {
        "colab": {
          "base_uri": "https://localhost:8080/"
        },
        "id": "eZxMTm3Anrfi",
        "outputId": "3e9347db-673c-4e9b-c365-501caa1046ae"
      },
      "execution_count": 14,
      "outputs": [
        {
          "output_type": "stream",
          "name": "stdout",
          "text": [
            "(100, 200, 300)\n"
          ]
        }
      ]
    },
    {
      "cell_type": "markdown",
      "source": [
        "12. Write a code to access the second-to-last element of the tuple ('red', 'green', 'blue', 'yellow')."
      ],
      "metadata": {
        "id": "nTAnkKHqnrw-"
      }
    },
    {
      "cell_type": "code",
      "source": [
        "element_tuple=('red','green','blue','yellow')\n",
        "element_tuple[-2]"
      ],
      "metadata": {
        "colab": {
          "base_uri": "https://localhost:8080/",
          "height": 36
        },
        "id": "0_gnEsucnvir",
        "outputId": "39d16a43-bc34-4212-e37b-d27c23a19bae"
      },
      "execution_count": 15,
      "outputs": [
        {
          "output_type": "execute_result",
          "data": {
            "text/plain": [
              "'blue'"
            ],
            "application/vnd.google.colaboratory.intrinsic+json": {
              "type": "string"
            }
          },
          "metadata": {},
          "execution_count": 15
        }
      ]
    },
    {
      "cell_type": "markdown",
      "source": [
        "13. Write a code to find the minimum number in the tuple (10, 20, 5, 15)."
      ],
      "metadata": {
        "id": "qYHcI6Hnnv47"
      }
    },
    {
      "cell_type": "code",
      "source": [
        "given_tuple=(10,20,5,15)\n",
        "min(given_tuple)"
      ],
      "metadata": {
        "colab": {
          "base_uri": "https://localhost:8080/"
        },
        "id": "mXS1ShBony-z",
        "outputId": "b2229d66-4a15-4ffe-e119-da1c7420e537"
      },
      "execution_count": 16,
      "outputs": [
        {
          "output_type": "execute_result",
          "data": {
            "text/plain": [
              "5"
            ]
          },
          "metadata": {},
          "execution_count": 16
        }
      ]
    },
    {
      "cell_type": "markdown",
      "source": [
        "14.  Write a code to find the index of the element \"cat\" in the tuple ('dog', 'cat', 'rabbit')."
      ],
      "metadata": {
        "id": "7AR1b0iZnzSj"
      }
    },
    {
      "cell_type": "code",
      "source": [
        "element_in_tuple=('dog','cat','rabbit')\n",
        "element_in_tuple.index('cat')"
      ],
      "metadata": {
        "colab": {
          "base_uri": "https://localhost:8080/"
        },
        "id": "pbC-rycKn2bb",
        "outputId": "4302cea6-7a9d-4a84-8105-13bcb0722571"
      },
      "execution_count": 17,
      "outputs": [
        {
          "output_type": "execute_result",
          "data": {
            "text/plain": [
              "1"
            ]
          },
          "metadata": {},
          "execution_count": 17
        }
      ]
    },
    {
      "cell_type": "markdown",
      "source": [
        "15. Write a code to create a tuple containing three different fruits and check if \"kiwi\" is in it."
      ],
      "metadata": {
        "id": "IhLQvupLn2q7"
      }
    },
    {
      "cell_type": "code",
      "source": [
        "creating_tuple=(\"apple\",\"banana\",\"kiwi\")\n",
        "\"kiwi\" in creating_tuple"
      ],
      "metadata": {
        "colab": {
          "base_uri": "https://localhost:8080/"
        },
        "id": "8r7LatOFn5kj",
        "outputId": "4ef24906-37f7-4b03-e942-1225439116dd"
      },
      "execution_count": 18,
      "outputs": [
        {
          "output_type": "execute_result",
          "data": {
            "text/plain": [
              "True"
            ]
          },
          "metadata": {},
          "execution_count": 18
        }
      ]
    },
    {
      "cell_type": "markdown",
      "source": [
        "16.  Write a code to create a set with the elements 'a', 'b', 'c' and print it."
      ],
      "metadata": {
        "id": "ARL4h82Kn5xa"
      }
    },
    {
      "cell_type": "code",
      "source": [
        "creating_set={'a','b','c'}\n",
        "print(creating_set)"
      ],
      "metadata": {
        "colab": {
          "base_uri": "https://localhost:8080/"
        },
        "id": "p__7peAen9i9",
        "outputId": "20073871-2325-4a66-958b-34fc70ffabdb"
      },
      "execution_count": 19,
      "outputs": [
        {
          "output_type": "stream",
          "name": "stdout",
          "text": [
            "{'a', 'c', 'b'}\n"
          ]
        }
      ]
    },
    {
      "cell_type": "markdown",
      "source": [
        "17.  Write a code to clear all elements from the set {1, 2, 3, 4, 5}."
      ],
      "metadata": {
        "id": "J8WL4pP_n-GL"
      }
    },
    {
      "cell_type": "code",
      "source": [
        "element_of_set={1,2,3,4,5}\n",
        "element_of_set.clear()\n",
        "print(element_of_set)"
      ],
      "metadata": {
        "colab": {
          "base_uri": "https://localhost:8080/"
        },
        "id": "vkoXfzFToCZj",
        "outputId": "c3cfd73a-2c6b-4a1e-ccfd-34c3025f3db9"
      },
      "execution_count": 20,
      "outputs": [
        {
          "output_type": "stream",
          "name": "stdout",
          "text": [
            "set()\n"
          ]
        }
      ]
    },
    {
      "cell_type": "markdown",
      "source": [
        "18. Write a code to remove the element 4 from the set {1, 2, 3, 4}."
      ],
      "metadata": {
        "id": "AIqo-DyGoCrD"
      }
    },
    {
      "cell_type": "code",
      "source": [
        "remove_element={1,2,3,4}\n",
        "remove_element.remove(4)\n",
        "print(remove_element)"
      ],
      "metadata": {
        "colab": {
          "base_uri": "https://localhost:8080/"
        },
        "id": "y4L1faNSoGrD",
        "outputId": "072a7271-6ba0-41ef-f958-6371eab2be29"
      },
      "execution_count": 21,
      "outputs": [
        {
          "output_type": "stream",
          "name": "stdout",
          "text": [
            "{1, 2, 3}\n"
          ]
        }
      ]
    },
    {
      "cell_type": "markdown",
      "source": [
        "19. Write a code to find the union of two sets {1, 2, 3} and {3, 4, 5}."
      ],
      "metadata": {
        "id": "VQ2uLKCyoG2r"
      }
    },
    {
      "cell_type": "code",
      "source": [
        "given_set_a={1,2,3}\n",
        "given_set_b={3,4,5}\n",
        "given_set_a.union(given_set_b)"
      ],
      "metadata": {
        "colab": {
          "base_uri": "https://localhost:8080/"
        },
        "id": "_0DtyWX3oK7D",
        "outputId": "fd1d28fe-2462-40de-d67a-19950dcaf7c5"
      },
      "execution_count": 23,
      "outputs": [
        {
          "output_type": "execute_result",
          "data": {
            "text/plain": [
              "{1, 2, 3, 4, 5}"
            ]
          },
          "metadata": {},
          "execution_count": 23
        }
      ]
    },
    {
      "cell_type": "markdown",
      "source": [
        "20. Write a code to find the intersection of two sets {1, 2, 3} and {2, 3, 4}."
      ],
      "metadata": {
        "id": "KlVNtYJvoLM8"
      }
    },
    {
      "cell_type": "code",
      "source": [
        "given_set_a={1,2,3}\n",
        "given_set_b={2,3,4}\n",
        "given_set_a.intersection(given_set_b)"
      ],
      "metadata": {
        "colab": {
          "base_uri": "https://localhost:8080/"
        },
        "id": "AP4BOAD8oOIr",
        "outputId": "06bab4ee-dc28-4ba9-f616-4b34c51e4a95"
      },
      "execution_count": 24,
      "outputs": [
        {
          "output_type": "execute_result",
          "data": {
            "text/plain": [
              "{2, 3}"
            ]
          },
          "metadata": {},
          "execution_count": 24
        }
      ]
    },
    {
      "cell_type": "markdown",
      "source": [
        "21. Write a code to create a dictionary with the keys \"name\", \"age\", and \"city\", and print it."
      ],
      "metadata": {
        "id": "sGoLMg4yoOlj"
      }
    },
    {
      "cell_type": "code",
      "source": [
        "creating_dictionary={\"name\":\"Diksha\",\"age\":21,\"city\":\"New Delhi\"}\n",
        "print(creating_dictionary)"
      ],
      "metadata": {
        "colab": {
          "base_uri": "https://localhost:8080/"
        },
        "id": "B5jBcYZNuNgU",
        "outputId": "8a2d9914-e4e9-44c3-e533-a4890fd7fd29"
      },
      "execution_count": 25,
      "outputs": [
        {
          "output_type": "stream",
          "name": "stdout",
          "text": [
            "{'name': 'Diksha', 'age': 21, 'city': 'New Delhi'}\n"
          ]
        }
      ]
    },
    {
      "cell_type": "markdown",
      "source": [
        "22.  Write a code to add a new key-value pair \"country\": \"USA\" to the dictionary {'name': 'John', 'age': 25}."
      ],
      "metadata": {
        "id": "X9EXBYqJoSTD"
      }
    },
    {
      "cell_type": "code",
      "source": [
        "create_dic={'name':'John','age':25}\n",
        "create_dic['country']=\"USA\"\n",
        "print(create_dic)"
      ],
      "metadata": {
        "colab": {
          "base_uri": "https://localhost:8080/"
        },
        "id": "UMMKMym-oZB7",
        "outputId": "470e0761-c7bb-41d5-aafc-e8c98ca0b554"
      },
      "execution_count": 26,
      "outputs": [
        {
          "output_type": "stream",
          "name": "stdout",
          "text": [
            "{'name': 'John', 'age': 25, 'country': 'USA'}\n"
          ]
        }
      ]
    },
    {
      "cell_type": "markdown",
      "source": [
        "23.  Write a code to access the value associated with the key \"name\" in the dictionary {'name': 'Alice', 'age': 30}."
      ],
      "metadata": {
        "id": "2VGac81ioZcO"
      }
    },
    {
      "cell_type": "code",
      "source": [
        "the_dic={'name':'Alice','age':30}\n",
        "the_dic['name']"
      ],
      "metadata": {
        "colab": {
          "base_uri": "https://localhost:8080/",
          "height": 36
        },
        "id": "Tew-Omc8odA7",
        "outputId": "050a05f4-bf8e-4931-d72c-e680d1a42d62"
      },
      "execution_count": 27,
      "outputs": [
        {
          "output_type": "execute_result",
          "data": {
            "text/plain": [
              "'Alice'"
            ],
            "application/vnd.google.colaboratory.intrinsic+json": {
              "type": "string"
            }
          },
          "metadata": {},
          "execution_count": 27
        }
      ]
    },
    {
      "cell_type": "markdown",
      "source": [
        "24. Write a code to remove the key \"age\" from the dictionary {'name': 'Bob', 'age': 22, 'city': 'New York'}.\n",
        "\n"
      ],
      "metadata": {
        "id": "nN0CFZ6QodRj"
      }
    },
    {
      "cell_type": "code",
      "source": [
        "remove_dic={'name':'Bob','age':22,'city':'New York'}\n",
        "remove_dic.pop('age')\n",
        "print(remove_dic)"
      ],
      "metadata": {
        "colab": {
          "base_uri": "https://localhost:8080/"
        },
        "id": "9QW-xpMIogqk",
        "outputId": "cefb5722-f5d6-48f8-d8e2-ccbd7addea13"
      },
      "execution_count": 28,
      "outputs": [
        {
          "output_type": "stream",
          "name": "stdout",
          "text": [
            "{'name': 'Bob', 'city': 'New York'}\n"
          ]
        }
      ]
    },
    {
      "cell_type": "markdown",
      "source": [
        "25.  Write a code to check if the key \"city\" exists in the dictionary {'name': 'Alice', 'city': 'Paris'}."
      ],
      "metadata": {
        "id": "DRXtboIdohBT"
      }
    },
    {
      "cell_type": "code",
      "source": [
        "exit_dic={'name':'Alice','city':'Paris'}\n",
        "'city' in exit_dic\n"
      ],
      "metadata": {
        "colab": {
          "base_uri": "https://localhost:8080/"
        },
        "id": "VAjv4eTboj51",
        "outputId": "16ca71bb-4e67-4027-b880-084b4b1dcce4"
      },
      "execution_count": 29,
      "outputs": [
        {
          "output_type": "execute_result",
          "data": {
            "text/plain": [
              "True"
            ]
          },
          "metadata": {},
          "execution_count": 29
        }
      ]
    },
    {
      "cell_type": "markdown",
      "source": [
        "26. Write a code to create a list, a tuple, and a dictionary, and print them all."
      ],
      "metadata": {
        "id": "dLHHRb6sokQz"
      }
    },
    {
      "cell_type": "code",
      "source": [
        "create_list=[10,20,30,40]\n",
        "create_tuple=(10,20,30,40)\n",
        "create_dic={'name':'Diksha','age':21}\n",
        "print(create_list)\n",
        "print(create_tuple)\n",
        "print(create_dic)"
      ],
      "metadata": {
        "colab": {
          "base_uri": "https://localhost:8080/"
        },
        "id": "sSSLoLxRonf8",
        "outputId": "45d3b6ee-81d2-4eab-cb8d-32d30efb396e"
      },
      "execution_count": 32,
      "outputs": [
        {
          "output_type": "stream",
          "name": "stdout",
          "text": [
            "[10, 20, 30, 40]\n",
            "(10, 20, 30, 40)\n",
            "{'name': 'Diksha', 'age': 21}\n"
          ]
        }
      ]
    },
    {
      "cell_type": "markdown",
      "source": [
        "27. Write a code to create a list of 5 random numbers between 1 and 100, sort it in ascending order, and print the\n",
        "result."
      ],
      "metadata": {
        "id": "AqLLOAQWonvr"
      }
    },
    {
      "cell_type": "code",
      "source": [
        "create_list=[45,98,57,67]\n",
        "create_list.sort()\n",
        "print(create_list)"
      ],
      "metadata": {
        "colab": {
          "base_uri": "https://localhost:8080/"
        },
        "id": "DUcnViO2osLL",
        "outputId": "bb7297ba-be66-46b1-f8ec-cb094ed467c1"
      },
      "execution_count": 35,
      "outputs": [
        {
          "output_type": "stream",
          "name": "stdout",
          "text": [
            "[45, 57, 67, 98]\n"
          ]
        }
      ]
    },
    {
      "cell_type": "markdown",
      "source": [
        "28. Write a code to create a list with strings and print the element at the third index.\n",
        "\n"
      ],
      "metadata": {
        "id": "GFHCaOGqosd7"
      }
    },
    {
      "cell_type": "code",
      "source": [
        "creating_list=[\"apple\",\"banana\",\"kiwi\"]\n",
        "creating_list[2]"
      ],
      "metadata": {
        "colab": {
          "base_uri": "https://localhost:8080/",
          "height": 36
        },
        "id": "CW0Mclpgowhs",
        "outputId": "cffc631d-9f73-43aa-8402-8dab7decf04b"
      },
      "execution_count": 36,
      "outputs": [
        {
          "output_type": "execute_result",
          "data": {
            "text/plain": [
              "'kiwi'"
            ],
            "application/vnd.google.colaboratory.intrinsic+json": {
              "type": "string"
            }
          },
          "metadata": {},
          "execution_count": 36
        }
      ]
    },
    {
      "cell_type": "markdown",
      "source": [
        "29.  Write a code to combine two dictionaries into one and print the result.\n",
        "\n"
      ],
      "metadata": {
        "id": "W7ByEYUHow-z"
      }
    },
    {
      "cell_type": "code",
      "source": [
        "dic_a={'name':'Diksha','age':21}\n",
        "dic_b={'city':'New Delhi','country':'India'}\n",
        "dic_a.update(dic_b)\n",
        "print(dic_a)"
      ],
      "metadata": {
        "colab": {
          "base_uri": "https://localhost:8080/"
        },
        "id": "gQHffh4ao0Cb",
        "outputId": "1904cf63-2863-4772-f6f5-36897fc54462"
      },
      "execution_count": 37,
      "outputs": [
        {
          "output_type": "stream",
          "name": "stdout",
          "text": [
            "{'name': 'Diksha', 'age': 21, 'city': 'New Delhi', 'country': 'India'}\n"
          ]
        }
      ]
    },
    {
      "cell_type": "markdown",
      "source": [
        "30. Write a code to convert a list of strings into a set."
      ],
      "metadata": {
        "id": "-a_p_bcZo0wd"
      }
    },
    {
      "cell_type": "code",
      "source": [
        "convert_list=['apple','banana','kiwi']\n",
        "set(convert_list)"
      ],
      "metadata": {
        "colab": {
          "base_uri": "https://localhost:8080/"
        },
        "id": "pFS7Z-WQo3az",
        "outputId": "34fdc741-3070-41d8-f64c-f802cfce20eb"
      },
      "execution_count": 38,
      "outputs": [
        {
          "output_type": "execute_result",
          "data": {
            "text/plain": [
              "{'apple', 'banana', 'kiwi'}"
            ]
          },
          "metadata": {},
          "execution_count": 38
        }
      ]
    }
  ]
}